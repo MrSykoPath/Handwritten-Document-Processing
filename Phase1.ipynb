{
 "cells": [
  {
   "cell_type": "code",
   "execution_count": 1,
   "id": "ea74ae2f",
   "metadata": {},
   "outputs": [],
   "source": [
    "import pandas as pd\n",
    "import numpy as np\n",
    "import cv2\n",
    "import os\n",
    "from mistralai import Mistral\n",
    "from dotenv import load_dotenv\n",
    "import base64\n",
    "from IPython.display import display, Markdown\n",
    "from pydantic import BaseModel, Field\n",
    "from mistralai.extra import response_format_from_pydantic_model\n",
    "import anthropic\n"
   ]
  },
  {
   "cell_type": "code",
   "execution_count": 2,
   "id": "9e31a936",
   "metadata": {},
   "outputs": [],
   "source": [
    "load_dotenv()\n",
    "api_key = os.getenv(\"API_KEY\")"
   ]
  },
  {
   "cell_type": "code",
   "execution_count": 3,
   "id": "2e59a918",
   "metadata": {},
   "outputs": [],
   "source": [
    "def encode_image(image_path):\n",
    "    \"\"\"Encode the image to base64.\"\"\"\n",
    "    try:\n",
    "        with open(image_path, \"rb\") as image_file:\n",
    "            return base64.b64encode(image_file.read()).decode('utf-8')\n",
    "    except FileNotFoundError:\n",
    "        print(f\"Error: The file {image_path} was not found.\")\n",
    "        return None\n",
    "    except Exception as e:  # Added general exception handling\n",
    "        print(f\"Error: {e}\")\n",
    "        return None"
   ]
  },
  {
   "cell_type": "code",
   "execution_count": 5,
   "id": "f22ca9f2",
   "metadata": {},
   "outputs": [],
   "source": [
    "image_path = \"Documents/behna_fr1.jpg\"\n",
    "base64_image = encode_image(image_path)"
   ]
  },
  {
   "cell_type": "code",
   "execution_count": null,
   "id": "48d63eda",
   "metadata": {},
   "outputs": [],
   "source": [
    "#Testing the Mistral OCR API (Failed)\n",
    "\n",
    "client = Mistral(api_key=api_key)\n",
    "\n",
    "ocr_response = client.ocr.process(\n",
    "    model=\"mistral-ocr-latest\",\n",
    "    document={\n",
    "        \"type\": \"image_url\",\n",
    "        \"image_url\": f\"data:image/jpeg;base64,{base64_image}\"\n",
    "    },\n",
    "    include_image_base64=True\n",
    ")"
   ]
  },
  {
   "cell_type": "code",
   "execution_count": 20,
   "id": "5884a4cd",
   "metadata": {},
   "outputs": [],
   "source": [
    "class Image(BaseModel):\n",
    "  image_type: str = Field(..., description=\"The type of the image.\")\n",
    "  short_description: str = Field(..., description=\"A description in english describing the image.\")\n",
    "  summary: str = Field(..., description=\"Summarize the image.\")"
   ]
  },
  {
   "cell_type": "code",
   "execution_count": 35,
   "id": "233dd89e",
   "metadata": {},
   "outputs": [],
   "source": [
    "#Test the Mistral Document Annotation API\n",
    "response = client.ocr.process(\n",
    "    model=\"mistral-ocr-latest\",\n",
    "    document={\n",
    "        \"type\": \"image_url\",\n",
    "        \"image_url\": f\"data:image/jpeg;base64,{base64_image}\"\n",
    "    },\n",
    "    include_image_base64=True,\n",
    "    bbox_annotation_format=response_format_from_pydantic_model(Image)\n",
    ")"
   ]
  },
  {
   "cell_type": "code",
   "execution_count": 36,
   "id": "1f125faf",
   "metadata": {},
   "outputs": [
    {
     "data": {
      "text/markdown": [
       "# ALEXANDRIE\n",
       "Rue de l'Église Maronite, N°1\n",
       "TELEPH. 44-45\n",
       "\n",
       "Téléphone No. 22879\n",
       "Adresse Telegraphique\n",
       "\"BEHNA. ALEXANDRIE\"\n",
       "26\n",
       "LE CAIRE\n",
       "Rue Neuve, N° 49\n",
       "TELEPH. N° 50-789\n",
       "B.P.160\n",
       "\n",
       "NÉGOCIANT 11 JUIN 2018\n",
       "Adresse Telegraphique\n",
       "\"ARMEE. LE CAIRE\"\n",
       "\n",
       "Rue de l'Église Maronite, N°1\n",
       "TELEPH. 44-45\n",
       "\n",
       "Téléphone No. 22879\n",
       "Adresse Telegraphique\n",
       "\"ARMEE. LE CAIRE\"\n",
       "\n",
       "Rue de l'Église Maronite, N°1\n",
       "TELEPH. N° 50-789\n",
       "B.P.160\n",
       "\n",
       "Tél. 08/18/18\n",
       "Tél. 08/18/18\n",
       "Tél. 08/18/18\n",
       "Tél. 08/18/18\n",
       "\n",
       "Notre lettre en date du 18 et 20\n",
       "\n",
       "Jouais si j'ai passé dans mon livre les\n",
       "différents éléments qui nous ont fait l'aimer\n",
       "des parents. J'ai été tout à fait jésus.\n",
       "J'ai été tout à fait tout à fait tout à fait tout à fait tout à fait tout à fait tout à fait tout à fait tout à fait tout à fait tout à fait tout à fait tout à fait tout à fait tout à fait tout à fait tout à fait tout à fait tout à fait tout à fait tout à fait tout à fait tout à fait tout à fait tout à fait tout à fait tout à fait tout à fait tout à fait tout à fait tout à fait tout à fait tout à fait tout à fait tout à fait tout à fait tout à fait tout à fait tout à fait tout à fait tout à fait tout à fait tout à fait tout à fait tout à fait tout à fait tout à fait tout à fait tout à fait tout à fait tout à fait tout à fait tout à fait tout à fait tout à fait tout à fait tout à fait tout à fait tout à fait tout à fait tout à fait tout à fait tout à fait tout à fait tout à fait tout à fait tout à fait"
      ],
      "text/plain": [
       "<IPython.core.display.Markdown object>"
      ]
     },
     "metadata": {},
     "output_type": "display_data"
    }
   ],
   "source": [
    "display(Markdown(response.pages[0].markdown))"
   ]
  },
  {
   "cell_type": "markdown",
   "id": "ad200ac8",
   "metadata": {},
   "source": [
    "### Testing with Mistral was a Failure. Lets start by doing some preprocessing then using a more powerful OCR API."
   ]
  },
  {
   "cell_type": "code",
   "execution_count": null,
   "id": "3855918c",
   "metadata": {},
   "outputs": [],
   "source": [
    "Image = cv2.imread(image_path)\n",
    "# Display the image using OpenCV\n",
    "cv2.imshow(\"Image\", Image)\n",
    "cv2.waitKey(0)\n",
    "cv2.destroyAllWindows()"
   ]
  }
 ],
 "metadata": {
  "kernelspec": {
   "display_name": ".venv",
   "language": "python",
   "name": "python3"
  },
  "language_info": {
   "codemirror_mode": {
    "name": "ipython",
    "version": 3
   },
   "file_extension": ".py",
   "mimetype": "text/x-python",
   "name": "python",
   "nbconvert_exporter": "python",
   "pygments_lexer": "ipython3",
   "version": "3.12.10"
  }
 },
 "nbformat": 4,
 "nbformat_minor": 5
}
